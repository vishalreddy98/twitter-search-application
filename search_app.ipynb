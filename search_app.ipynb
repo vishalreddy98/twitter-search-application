{
 "cells": [
  {
   "cell_type": "markdown",
   "metadata": {},
   "source": [
    "# Twitter Data Search Application"
   ]
  },
  {
   "cell_type": "code",
   "execution_count": 5,
   "metadata": {},
   "outputs": [],
   "source": [
    "# importing required libraries\n",
    "import json\n",
    "import psycopg2\n",
    "\n",
    "# importing exceptions\n",
    "from exceptions import *"
   ]
  },
  {
   "cell_type": "code",
   "execution_count": null,
   "metadata": {},
   "outputs": [],
   "source": [
    "# connect to the databases for user and tweet information\n"
   ]
  },
  {
   "cell_type": "markdown",
   "metadata": {},
   "source": [
    "### Information About the Databases\n",
    "Fields in the user database:\n",
    "* 'id'\n",
    "* 'name'\n",
    "* 'screen_name'\n",
    "* 'location'\n",
    "* 'created_at'\n",
    "* 'followers_count'\n",
    "* 'friends_count'      \n",
    "* 'statuses_count'     (The total number of tweets that the account has posted.)\n",
    "* 'favourites_count'   (The total number of tweets that the account has liked.)"
   ]
  },
  {
   "cell_type": "markdown",
   "metadata": {},
   "source": [
    "### Functionalities of the Search App\n",
    "The search app supports searches using usernames, screen names, words used in tweets and retweets (key-words) and geographical locations.\n",
    "Users can query to get user information, like a user's screen name, their bio, follower count, their tweets, etc.\n",
    "Users can also query on key-words to get tweets related to a certain topics. They can be ordered by date and popularity."
   ]
  },
  {
   "cell_type": "code",
   "execution_count": null,
   "metadata": {},
   "outputs": [],
   "source": [
    "def getUserInfo(userid):\n",
    "    try:\n",
    "        # search for the userid in the database\n",
    "        # if found, pull up all the relevant info about the user\n",
    "        pass\n",
    "    except:\n",
    "        raise UserNotFoundError"
   ]
  },
  {
   "cell_type": "code",
   "execution_count": null,
   "metadata": {},
   "outputs": [],
   "source": [
    "def getTweetInfo(tweetid):\n",
    "    try:\n",
    "        # search for the tweetid\n",
    "        # return the tweet, comments, retweet information, etc. if found in the database\n",
    "        pass\n",
    "    except:\n",
    "        raise TweetNotFoundError"
   ]
  },
  {
   "cell_type": "code",
   "execution_count": null,
   "metadata": {},
   "outputs": [],
   "source": [
    "def getKeywordTweets(keywords):\n",
    "    keyword_list = keywords.split(\",\")\n",
    "    for keyword in keywords:\n",
    "        pass"
   ]
  },
  {
   "cell_type": "code",
   "execution_count": null,
   "metadata": {},
   "outputs": [],
   "source": [
    "def search_twitter(userid = None, tweetid = None, keywords = None):\n",
    "    \"\"\"\n",
    "        This function allows the end-user to query the database based on any of the specified input parameters.\n",
    "        Multiple input parameters can also be specified for a more comprehensive search, if so desired.\n",
    "    \"\"\"\n",
    "    if userid is not None:\n",
    "        getUserInfo(userid)\n",
    "\n",
    "    if tweetid is not None:\n",
    "        getTweetInfo(tweetid)\n",
    "    \n",
    "    if keywords is not None:\n",
    "        getKeywordTweets(keywords)"
   ]
  }
 ],
 "metadata": {
  "kernelspec": {
   "display_name": "Python 3.10.7 64-bit",
   "language": "python",
   "name": "python3"
  },
  "language_info": {
   "codemirror_mode": {
    "name": "ipython",
    "version": 3
   },
   "file_extension": ".py",
   "mimetype": "text/x-python",
   "name": "python",
   "nbconvert_exporter": "python",
   "pygments_lexer": "ipython3",
   "version": "3.10.7"
  },
  "orig_nbformat": 4,
  "vscode": {
   "interpreter": {
    "hash": "aee8b7b246df8f9039afb4144a1f6fd8d2ca17a180786b69acc140d282b71a49"
   }
  }
 },
 "nbformat": 4,
 "nbformat_minor": 2
}
