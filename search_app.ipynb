{
 "cells": [
  {
   "cell_type": "markdown",
   "metadata": {},
   "source": [
    "# Twitter Data Search Application"
   ]
  },
  {
   "cell_type": "code",
   "execution_count": 11,
   "metadata": {},
   "outputs": [],
   "source": [
    "# importing required libraries\n",
    "from fastapi import FastAPI, HTTPException\n",
    "from pymongo import MongoClient\n",
    "from psycopg2 import connect, OperationalError\n",
    "from pydantic import BaseModel\n",
    "from typing import List\n",
    "\n",
    "# importing exceptions\n",
    "from exceptions import *"
   ]
  },
  {
   "cell_type": "code",
   "execution_count": 12,
   "metadata": {},
   "outputs": [],
   "source": [
    "app = FastAPI()"
   ]
  },
  {
   "cell_type": "markdown",
   "metadata": {},
   "source": [
    "### Information About the Databases\n",
    "Fields in the user database:\n",
    "* 'id'\n",
    "* 'name'\n",
    "* 'screen_name'\n",
    "* 'location'\n",
    "* 'created_at'\n",
    "* 'followers_count'\n",
    "* 'friends_count'      \n",
    "* 'statuses_count'     (The total number of tweets that the account has posted.)\n",
    "* 'favourites_count'   (The total number of tweets that the account has liked.)"
   ]
  },
  {
   "cell_type": "code",
   "execution_count": null,
   "metadata": {},
   "outputs": [],
   "source": [
    "# Connect to MongoDB\n",
    "mongo_client = MongoClient(\"mongodb://localhost:27017/\")\n",
    "db = mongo_client[\"twitter\"]\n",
    "tweets_collection = db[\"tweets\"]\n",
    "\n",
    "# Connect to PostgreSQL\n",
    "try:\n",
    "    conn = connect(\n",
    "        dbname=\"twitter\",\n",
    "        user=\"postgres\",\n",
    "        host=\"localhost\",\n",
    "        password=\"password\"\n",
    "    )\n",
    "except OperationalError as e:\n",
    "    print(f\"Unable to connect to PostgreSQL: {e}\")\n",
    "\n",
    "cursor = conn.cursor()"
   ]
  },
  {
   "cell_type": "markdown",
   "metadata": {},
   "source": [
    "### Functionalities of the Search App\n",
    "The search app supports searches using usernames, screen names, words used in tweets and retweets (key-words) and geographical locations.\n",
    "Users can query to get user information, like a user's screen name, their bio, follower count, their tweets, etc.\n",
    "Users can also query on key-words to get tweets related to a certain topics. They can be ordered by date and popularity."
   ]
  },
  {
   "cell_type": "code",
   "execution_count": null,
   "metadata": {},
   "outputs": [],
   "source": [
    "# Define models\n",
    "class Tweet(BaseModel):\n",
    "    id_str: str\n",
    "    text: str\n",
    "    created_at: str\n",
    "    author: str\n",
    "    retweet_count: int\n",
    "\n",
    "\n",
    "# Define routes\n",
    "@app.get(\"/tweets\")\n",
    "async def search_tweets(query: str, start_date: str = None, end_date: str = None) -> List[Tweet]:\n",
    "    # Define MongoDB query\n",
    "    mongo_query = {\"$text\": {\"$search\": query}}\n",
    "    if start_date:\n",
    "        mongo_query[\"created_at\"] = {\"$gte\": start_date}\n",
    "    if end_date:\n",
    "        mongo_query[\"created_at\"] = {\"$lte\": end_date}\n",
    "\n",
    "    # Execute MongoDB query\n",
    "    results = tweets_collection.find(mongo_query)\n",
    "\n",
    "    # Convert MongoDB results to Tweet objects\n",
    "    tweets = [Tweet(**result) for result in results]\n",
    "\n",
    "    # Get author information from PostgreSQL and add to Tweet objects\n",
    "    for tweet in tweets:\n",
    "        cursor.execute(f\"SELECT * FROM users WHERE screen_name='{tweet.author}'\")\n",
    "        result = cursor.fetchone()\n",
    "        if result:\n",
    "            tweet.author_name = result[1]\n",
    "            tweet.author_location = result[2]\n",
    "\n",
    "    return tweets"
   ]
  },
  {
   "cell_type": "code",
   "execution_count": null,
   "metadata": {},
   "outputs": [],
   "source": [
    "def getUserInfo(userid):\n",
    "    try:\n",
    "        # search for the userid in the database\n",
    "        # if found, pull up all the relevant info about the user\n",
    "        pass\n",
    "    except:\n",
    "        raise UserNotFoundError"
   ]
  },
  {
   "cell_type": "code",
   "execution_count": null,
   "metadata": {},
   "outputs": [],
   "source": [
    "def getTweetInfo(tweetid):\n",
    "    try:\n",
    "        # search for the tweetid\n",
    "        # return the tweet, comments, retweet information, etc. if found in the database\n",
    "        pass\n",
    "    except:\n",
    "        raise TweetNotFoundError"
   ]
  },
  {
   "cell_type": "code",
   "execution_count": null,
   "metadata": {},
   "outputs": [],
   "source": [
    "def getKeywordTweets(keywords):\n",
    "    keyword_list = keywords.split(\",\")\n",
    "    for keyword in keywords:\n",
    "        pass"
   ]
  },
  {
   "cell_type": "code",
   "execution_count": null,
   "metadata": {},
   "outputs": [],
   "source": [
    "def search_twitter(userid = None, tweetid = None, keywords = None):\n",
    "    \"\"\"\n",
    "        This function allows the end-user to query the database based on any of the specified input parameters.\n",
    "        Multiple input parameters can also be specified for a more comprehensive search, if so desired.\n",
    "    \"\"\"\n",
    "    if userid is not None:\n",
    "        getUserInfo(userid)\n",
    "\n",
    "    if tweetid is not None:\n",
    "        getTweetInfo(tweetid)\n",
    "    \n",
    "    if keywords is not None:\n",
    "        getKeywordTweets(keywords)"
   ]
  }
 ],
 "metadata": {
  "kernelspec": {
   "display_name": "Python 3.10.7 64-bit",
   "language": "python",
   "name": "python3"
  },
  "language_info": {
   "codemirror_mode": {
    "name": "ipython",
    "version": 3
   },
   "file_extension": ".py",
   "mimetype": "text/x-python",
   "name": "python",
   "nbconvert_exporter": "python",
   "pygments_lexer": "ipython3",
   "version": "3.10.7"
  },
  "orig_nbformat": 4,
  "vscode": {
   "interpreter": {
    "hash": "aee8b7b246df8f9039afb4144a1f6fd8d2ca17a180786b69acc140d282b71a49"
   }
  }
 },
 "nbformat": 4,
 "nbformat_minor": 2
}
