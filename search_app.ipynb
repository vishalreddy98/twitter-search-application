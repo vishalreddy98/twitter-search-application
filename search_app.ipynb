{
 "cells": [
  {
   "cell_type": "markdown",
   "metadata": {},
   "source": [
    "# Search Application"
   ]
  },
  {
   "cell_type": "code",
   "execution_count": 1,
   "metadata": {},
   "outputs": [],
   "source": [
    "# importing required libraries\n",
    "import psycopg2\n",
    "from pymongo import MongoClient\n",
    "from fastapi import HTTPException\n",
    "from exceptions import *"
   ]
  },
  {
   "cell_type": "markdown",
   "metadata": {},
   "source": [
    "## Connecting to the Databases Storing the Information"
   ]
  },
  {
   "cell_type": "code",
   "execution_count": 3,
   "metadata": {},
   "outputs": [
    {
     "name": "stdout",
     "output_type": "stream",
     "text": [
      "{'user': 'varshiniyanamandra', 'passfile': '/Users/varshiniyanamandra/.pgpass', 'channel_binding': 'prefer', 'dbname': 'twitter', 'host': 'localhost', 'port': '5432', 'options': '', 'sslmode': 'prefer', 'sslcompression': '0', 'sslsni': '1', 'ssl_min_protocol_version': 'TLSv1.2', 'gssencmode': 'prefer', 'krbsrvname': 'postgres', 'target_session_attrs': 'any'} \n",
      "\n"
     ]
    }
   ],
   "source": [
    "# connecting to the PostgreSQL database\n",
    "try:\n",
    "    p_conn = psycopg2.connect(\n",
    "        dbname = \"twitter\",\n",
    "        user = \"varshiniyanamandra\",\n",
    "        password = \"\",\n",
    "        host = \"localhost\",\n",
    "        port = \"5432\"\n",
    "    )\n",
    "except psycopg2.OperationalError as e:\n",
    "    # raise an error if the connection is unsuccessful\n",
    "    print(f\"Unable to connect to PostgreSQL: {e}\")\n",
    "\n",
    "# opening a cursor to perform database operations\n",
    "p_cur = p_conn.cursor()\n",
    "\n",
    "# print the PostgreSQL server information\n",
    "print(p_conn.get_dsn_parameters(), \"\\n\")"
   ]
  },
  {
   "cell_type": "code",
   "execution_count": null,
   "metadata": {},
   "outputs": [],
   "source": [
    "# connect to the MongoDB database\n",
    "mongo_conn = MongoClient('mongodb://localhost:27017/')\n",
    "mongo_db = mongo_conn['twitter_data']\n",
    "tweets_collection = mongo_db['tweets']"
   ]
  },
  {
   "cell_type": "markdown",
   "metadata": {},
   "source": [
    "## Building the Search Application"
   ]
  },
  {
   "cell_type": "markdown",
   "metadata": {},
   "source": [
    "### Defining Utility Functions"
   ]
  },
  {
   "cell_type": "code",
   "execution_count": null,
   "metadata": {},
   "outputs": [],
   "source": [
    "# function to get user information\n",
    "def get_user_info(user_id: str):\n",
    "    \"\"\"\n",
    "        This function returns the user information as a JSON object.\n",
    "        Input:\n",
    "            user_id (str): Twitter user ID which we want to look up\n",
    "        Output:\n",
    "            user_out (JSON object): user information corresponding to user_id\n",
    "    \"\"\"\n",
    "    p_cur.execute(\"SELECT * FROM TwitterUser WHERE id = {0};\".format(user_id))\n",
    "    user_info = p_cur.fetchone()\n",
    "    if user_info is None:\n",
    "        # raise an exception if the user doesn't exist in the database\n",
    "        raise HTTPException(status_code = UserNotFoundError.code, detail = UserNotFoundError.description)\n",
    "    user_out = {\n",
    "        'id': user_info[0],\n",
    "        'name': user_info[1],\n",
    "        'screen_name': user_info[2],\n",
    "        'location': user_info[3],\n",
    "        'created_at': user_info[4],\n",
    "        'followers_count': user_info[5],\n",
    "        'friends_count': user_info[6],\n",
    "        'statuses_count': user_info[7],\n",
    "        'favorites_count': user_info[8]\n",
    "    }\n",
    "\n",
    "    return user_out"
   ]
  },
  {
   "cell_type": "code",
   "execution_count": null,
   "metadata": {},
   "outputs": [],
   "source": [
    "# function to search tweets containing a specified keyword\n",
    "def search_tweets_keyword(keyword: str):\n",
    "    \"\"\"\n",
    "        Function to get the information of tweets based on a user-specified keyword.\n",
    "        Input:\n",
    "            keyword (str): user-specified keyword\n",
    "        Output:\n",
    "            out (list): list of tweets containing the keyword\n",
    "    \"\"\"\n",
    "    out = []\n",
    "    query = {'$text': {'$search': keyword}}\n",
    "    tweets_match = tweets_collection.find(query) # we can add .limit(PAGE_LIMIT) here, if needed\n",
    "    for result in tweets_match:\n",
    "        tweet = {\n",
    "            'id': result['_id'],\n",
    "            'text': result['text'],\n",
    "            'user_id': result['user_id'],\n",
    "            'quote_count': result['quote_count'],\n",
    "            'reply_count': result['reply_count'],\n",
    "            'retweet_count': result['retweet_count'],\n",
    "            'favorite_count': result['favorite_count'],\n",
    "            'created_at': result['timestamp'],\n",
    "            'coordinates': result['coordinates']\n",
    "        }\n",
    "        # add information on whether the tweet is a retweet\n",
    "        if 'retweet' in result:\n",
    "            tweet['retweet'] = \"Yes\"\n",
    "        else:\n",
    "            tweet['retweet'] = \"No\"\n",
    "\n",
    "        \n",
    "        out.append(tweet)\n",
    "\n",
    "    # sort the results from newest to oldest before returning\n",
    "    return out.sort(key = lambda x: int(x['timestamp_ms']), reverse = True)"
   ]
  },
  {
   "cell_type": "code",
   "execution_count": null,
   "metadata": {},
   "outputs": [],
   "source": [
    "# function to search tweets based on tweet id\n",
    "def retrieve_tweet(tweet_id: str):\n",
    "    \"\"\"\n",
    "        Function to get the information of a tweet based on a user-specified tweet ID.\n",
    "        Input:\n",
    "            tweet_id (str): user-specified tweet ID\n",
    "        Output:\n",
    "            tweet: tweet corresponding to tweet_id\n",
    "    \"\"\"\n",
    "    query = {'id': tweet_id}\n",
    "    result = tweets_collection.find_one(query)\n",
    "    if result is None:\n",
    "        # raise an exception if the tweet doesn't exist in the database\n",
    "        raise HTTPException(status_code = TweetNotFoundError.code, detail = TweetNotFoundError.description)\n",
    "    tweet = {\n",
    "        'id': result['_id'],\n",
    "        'text': result['text'],\n",
    "        'user_id': result['user_id'],\n",
    "        'quote_count': result['quote_count'],\n",
    "        'reply_count': result['reply_count'],\n",
    "        'retweet_count': result['retweet_count'],\n",
    "        'favorite_count': result['favorite_count'],\n",
    "        'created_at': result['timestamp'],\n",
    "        'coordinates': result['coordinates']\n",
    "    }\n",
    "    # add information on whether the tweet is a retweet\n",
    "    if 'retweet' in result:\n",
    "        tweet['retweet'] = \"Yes\"\n",
    "    else:\n",
    "        tweet['retweet'] = \"No\"\n",
    "\n",
    "    return tweet"
   ]
  }
 ],
 "metadata": {
  "kernelspec": {
   "display_name": "Python 3.10.7 64-bit",
   "language": "python",
   "name": "python3"
  },
  "language_info": {
   "codemirror_mode": {
    "name": "ipython",
    "version": 3
   },
   "file_extension": ".py",
   "mimetype": "text/x-python",
   "name": "python",
   "nbconvert_exporter": "python",
   "pygments_lexer": "ipython3",
   "version": "3.10.7"
  },
  "orig_nbformat": 4,
  "vscode": {
   "interpreter": {
    "hash": "aee8b7b246df8f9039afb4144a1f6fd8d2ca17a180786b69acc140d282b71a49"
   }
  }
 },
 "nbformat": 4,
 "nbformat_minor": 2
}
